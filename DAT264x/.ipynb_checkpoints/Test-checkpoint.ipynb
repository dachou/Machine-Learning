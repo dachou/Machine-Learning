{
 "cells": [
  {
   "cell_type": "code",
   "execution_count": 3,
   "metadata": {},
   "outputs": [
    {
     "name": "stderr",
     "output_type": "stream",
     "text": [
      "C:\\Anaconda\\lib\\site-packages\\h5py\\__init__.py:36: FutureWarning: Conversion of the second argument of issubdtype from `float` to `np.floating` is deprecated. In future, it will be treated as `np.float64 == np.dtype(float).type`.\n",
      "  from ._conv import register_converters as _register_converters\n",
      "Using TensorFlow backend.\n"
     ]
    },
    {
     "name": "stdout",
     "output_type": "stream",
     "text": [
      "Loading model...\n",
      "Wall time: 6min 17s\n"
     ]
    }
   ],
   "source": [
    "%%time\n",
    "from keras.preprocessing.image import img_to_array \n",
    "from imutils import paths \n",
    "import numpy as np \n",
    "import pickle \n",
    "import cv2 \n",
    "import os \n",
    "from keras.models import load_model \n",
    "\n",
    "# load the trained model and multi-label binarizer \n",
    "print(\"Loading model...\") \n",
    "model = load_model(\"capstone.model\") \n",
    "mlb = pickle.loads(open('capstone.pickle', \"rb\").read()) \n",
    "\n",
    "imagePaths = sorted(list(paths.list_images('./test/'))) \n",
    "submission = open(\"submission_format.csv\", \"w\") \n",
    "submission.write(\"id,orientation\\n\") \n",
    "\n",
    "for imagePath in imagePaths: \n",
    "    image = cv2.imread(imagePath) \n",
    "    image = image.astype(\"float\") / 255.0 \n",
    "    image = img_to_array(image) \n",
    "    image = np.expand_dims(image, axis=0) \n",
    "    proba = model.predict(image)[0] \n",
    "    idxs = np.argsort(proba)[::-1][:2]\n",
    "    \n",
    "    label = mlb.classes_[idxs[0]] # get label given top prob % score \n",
    "    base = os.path.basename(imagePath) \n",
    "    base = os.path.splitext(base) \n",
    "    filename = base[0] \n",
    "    label_code = label \n",
    "    if label_code == \"ZERO\" : \n",
    "        label_code = \"0\" \n",
    "    if label_code == \"ONE\" : \n",
    "        label_code = \"1\" \n",
    "    if label_code == \"TWO\" : \n",
    "        label_code = \"2\" \n",
    "    if label_code == \"THREE\" : \n",
    "        label_code = \"3\" \n",
    "    submission.write(filename + \",\" + label_code + \"\\n\")\n",
    "    \n",
    "submission.close()\n"
   ]
  },
  {
   "cell_type": "code",
   "execution_count": null,
   "metadata": {},
   "outputs": [],
   "source": []
  },
  {
   "cell_type": "code",
   "execution_count": null,
   "metadata": {},
   "outputs": [],
   "source": []
  }
 ],
 "metadata": {
  "kernelspec": {
   "display_name": "Python [default]",
   "language": "python",
   "name": "python3"
  },
  "language_info": {
   "codemirror_mode": {
    "name": "ipython",
    "version": 3
   },
   "file_extension": ".py",
   "mimetype": "text/x-python",
   "name": "python",
   "nbconvert_exporter": "python",
   "pygments_lexer": "ipython3",
   "version": "3.6.4"
  }
 },
 "nbformat": 4,
 "nbformat_minor": 2
}
